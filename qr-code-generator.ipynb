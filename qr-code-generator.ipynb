{
 "cells": [
  {
   "cell_type": "code",
   "execution_count": 1,
   "id": "c70a3677",
   "metadata": {},
   "outputs": [],
   "source": [
    "import qrcode"
   ]
  },
  {
   "cell_type": "code",
   "execution_count": 2,
   "id": "7cbf3069-543e-486e-9d39-e5cbe3b354aa",
   "metadata": {},
   "outputs": [],
   "source": [
    "url = \"https://qr-tracker-app.onrender.com\"\n",
    "img = qrcode.make(url)\n",
    "img.save(\"public_qr.png\")"
   ]
  },
  {
   "cell_type": "code",
   "execution_count": null,
   "id": "829f23e5",
   "metadata": {},
   "outputs": [],
   "source": []
  }
 ],
 "metadata": {
  "kernelspec": {
   "display_name": "Python 3 (ipykernel)",
   "language": "python",
   "name": "python3"
  },
  "language_info": {
   "codemirror_mode": {
    "name": "ipython",
    "version": 3
   },
   "file_extension": ".py",
   "mimetype": "text/x-python",
   "name": "python",
   "nbconvert_exporter": "python",
   "pygments_lexer": "ipython3",
   "version": "3.10.12"
  }
 },
 "nbformat": 4,
 "nbformat_minor": 5
}
